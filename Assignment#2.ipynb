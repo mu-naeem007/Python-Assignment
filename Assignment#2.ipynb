{
 "cells": [
  {
   "cell_type": "code",
   "execution_count": 6,
   "metadata": {},
   "outputs": [
    {
     "name": "stdout",
     "output_type": "stream",
     "text": [
      "Enter marks of maths :81\n",
      "Enter marks of English :97\n",
      "Enter marks of programming :92\n",
      "Enter marks of data structure :63\n",
      "Enter marks of graphics :41\n",
      "Total = 374\n",
      "Grade B\n"
     ]
    }
   ],
   "source": [
    "sub1=int(input(\"Enter marks of maths :\"))\n",
    "sub2=int(input(\"Enter marks of English :\"))\n",
    "sub3=int(input(\"Enter marks of programming :\"))\n",
    "sub4=int(input(\"Enter marks of data structure :\"))\n",
    "sub5=int(input(\"Enter marks of graphics :\"))\n",
    "total=sub1+sub2+sub3+sub4+sub5;\n",
    "print(\"Total =\",total)\n",
    "avg=total/5\n",
    "\n",
    "if (avg>=90 and avg<=100):\n",
    "    print(\"Grade A+\")\n",
    "elif (avg>=80 and avg<90):\n",
    "    print(\"Grade A\")\n",
    "elif (avg>=70 and avg<80):\n",
    "    print(\"Grade B\")\n",
    "elif (avg>=60 and avg<70):\n",
    "    print(\"Grade C\")\n",
    "elif (avg>=0 and avg<60):\n",
    "    print(\"Failed\")\n",
    "else :\n",
    "    print(\"You have written invalid percentage\")\n",
    "    "
   ]
  },
  {
   "cell_type": "code",
   "execution_count": 5,
   "metadata": {},
   "outputs": [
    {
     "name": "stdout",
     "output_type": "stream",
     "text": [
      "Enter a number: 23\n",
      "23 is Odd\n"
     ]
    }
   ],
   "source": [
    "num = int(input(\"Enter a number: \"))\n",
    "if (num % 2) == 0:\n",
    "   print(\"{0} is Even\".format(num))\n",
    "else:\n",
    "   print(\"{0} is Odd\".format(num))"
   ]
  },
  {
   "cell_type": "code",
   "execution_count": 3,
   "metadata": {},
   "outputs": [
    {
     "name": "stdout",
     "output_type": "stream",
     "text": [
      "The length of the list is: 27\n"
     ]
    }
   ],
   "source": [
    "a=(\"Hello Naeem here right now!\")\n",
    "print(\"The length of the list is:\",len(a))"
   ]
  },
  {
   "cell_type": "code",
   "execution_count": 4,
   "metadata": {},
   "outputs": [
    {
     "name": "stdout",
     "output_type": "stream",
     "text": [
      "45\n"
     ]
    }
   ],
   "source": [
    "a=[0,1,2,3,4,5,6,7,8,9]\n",
    "print(sum(a))"
   ]
  },
  {
   "cell_type": "code",
   "execution_count": 5,
   "metadata": {},
   "outputs": [
    {
     "name": "stdout",
     "output_type": "stream",
     "text": [
      "157\n"
     ]
    }
   ],
   "source": [
    "m=[2,3,5,44,78,99,11,151,14,157,21]\n",
    "print(max(m))"
   ]
  },
  {
   "cell_type": "code",
   "execution_count": null,
   "metadata": {},
   "outputs": [],
   "source": []
  },
  {
   "cell_type": "code",
   "execution_count": 12,
   "metadata": {},
   "outputs": [
    {
     "name": "stdout",
     "output_type": "stream",
     "text": [
      "[1, 1, 2, 3]"
     ]
    }
   ],
   "source": [
    "a = [1, 1, 2, 3, 5, 8, 13, 21, 34, 55, 89]\n",
    "l = []\n",
    "for n in a:\n",
    "    if n < 5: l.append(n)\n",
    "print(l,end=\"\")"
   ]
  },
  {
   "cell_type": "code",
   "execution_count": null,
   "metadata": {},
   "outputs": [],
   "source": []
  },
  {
   "cell_type": "code",
   "execution_count": null,
   "metadata": {},
   "outputs": [],
   "source": []
  }
 ],
 "metadata": {
  "kernelspec": {
   "display_name": "Python 3",
   "language": "python",
   "name": "python3"
  },
  "language_info": {
   "codemirror_mode": {
    "name": "ipython",
    "version": 3
   },
   "file_extension": ".py",
   "mimetype": "text/x-python",
   "name": "python",
   "nbconvert_exporter": "python",
   "pygments_lexer": "ipython3",
   "version": "3.7.4"
  }
 },
 "nbformat": 4,
 "nbformat_minor": 2
}
